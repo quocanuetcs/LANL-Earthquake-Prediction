{
 "cells": [
  {
   "cell_type": "markdown",
   "metadata": {},
   "source": [
    "# Tải thư viện "
   ]
  },
  {
   "cell_type": "code",
   "execution_count": 9,
   "metadata": {},
   "outputs": [],
   "source": [
    "import pandas as pd\n",
    "import numpy as np\n",
    "from pathlib import Path\n",
    "import matplotlib.pyplot as plt\n",
    "import seaborn as sns\n",
    "from sklearn.preprocessing import StandardScaler\n",
    "from sklearn.linear_model import LinearRegression\n",
    "from scipy.stats import kurtosis\n",
    "from scipy.stats import skew\n",
    "from scipy import stats\n",
    "from tqdm import tqdm\n",
    "\n",
    "from scipy.signal import hilbert\n",
    "from scipy.signal import hann\n",
    "from scipy.signal import convolve\n",
    "from scipy import stats"
   ]
  },
  {
   "cell_type": "markdown",
   "metadata": {},
   "source": [
    "# Tiền xử lí dữ liệu"
   ]
  },
  {
   "cell_type": "markdown",
   "metadata": {},
   "source": [
    "## Phân tích dữ liệu"
   ]
  },
  {
   "cell_type": "markdown",
   "metadata": {},
   "source": [
    "### Tập huấn luyện "
   ]
  },
  {
   "cell_type": "markdown",
   "metadata": {},
   "source": [
    "**Kích thước tập train**"
   ]
  },
  {
   "cell_type": "code",
   "execution_count": 2,
   "metadata": {},
   "outputs": [
    {
     "data": {
      "text/plain": [
       "9555558244"
      ]
     },
     "execution_count": 2,
     "metadata": {},
     "output_type": "execute_result"
    }
   ],
   "source": [
    "Path('data/train.csv').stat().st_size"
   ]
  },
  {
   "cell_type": "markdown",
   "metadata": {},
   "source": [
    "Đối với em, đây là một bộ dữ liệu lớn gây ra rất nhiều khó khăn. Em đã tìm hiểu khác nhau để tải và xử dụng dữ liệu:\n",
    "- **Cách 1: Dùng google colab để móc dữ liệu về qua Kaggle API:**\n",
    "        - Ưu điểm: Tốc độ Download nhanh. Xử dụng được colab với sự hỗ trợ của GPU.\n",
    "        - Nhược điểm: Dữ liệu lưu tạm thời trên máy ảo. Mỗi lần tải lại lại mất.\n",
    "- **Cách 2: Dùng jupyter notebook ở local:**\n",
    "        - Ưu điểm: Có thể train khi không có mạng. Không phải tải lại bộ dữ liệu.\n",
    "        - Nhược điểm: Không có GPU. Không thể đọc một lúc toàn bộ file train \n",
    "Sau quá trình cân nhắc, em đã lựa chọn ***cách 2***. Em khắc phục nhược điểm bằng cách khi visualization chỉ sử dụng một phần tập train. Khi tiền xử lí và đọc dữ liệu thì dùng cửa sổ trượt để đọc từng segment một. "
   ]
  },
  {
   "cell_type": "markdown",
   "metadata": {},
   "source": [
    "**Visualize tập train**"
   ]
  },
  {
   "cell_type": "markdown",
   "metadata": {},
   "source": [
    "Đọc 6 triệu dữ liệu "
   ]
  },
  {
   "cell_type": "code",
   "execution_count": 12,
   "metadata": {},
   "outputs": [],
   "source": [
    "train = pd.read_csv('data/train.csv', nrows=6000000)"
   ]
  },
  {
   "cell_type": "markdown",
   "metadata": {},
   "source": [
    "In ra các thống kê mô tả tập train"
   ]
  },
  {
   "cell_type": "code",
   "execution_count": 13,
   "metadata": {},
   "outputs": [
    {
     "name": "stdout",
     "output_type": "stream",
     "text": [
      "<class 'pandas.core.frame.DataFrame'>\n",
      "RangeIndex: 6000000 entries, 0 to 5999999\n",
      "Data columns (total 2 columns):\n",
      " #   Column           Dtype  \n",
      "---  ------           -----  \n",
      " 0   acoustic_data    int64  \n",
      " 1   time_to_failure  float64\n",
      "dtypes: float64(1), int64(1)\n",
      "memory usage: 91.6 MB\n"
     ]
    }
   ],
   "source": [
    "train.info()"
   ]
  },
  {
   "cell_type": "code",
   "execution_count": 46,
   "metadata": {},
   "outputs": [
    {
     "name": "stdout",
     "output_type": "stream",
     "text": [
      "       acoustic_data  time_to_failure\n",
      "count   6.000000e+06     6.000000e+06\n",
      "mean    4.545660e+00     1.350958e+00\n",
      "std     2.277303e+01     2.533610e+00\n",
      "min    -4.621000e+03     7.954798e-04\n",
      "25%     2.000000e+00     3.902964e-01\n",
      "50%     5.000000e+00     7.796974e-01\n",
      "75%     7.000000e+00     1.169098e+00\n",
      "max     3.252000e+03     1.154080e+01\n"
     ]
    }
   ],
   "source": [
    "print(train.describe())"
   ]
  },
  {
   "cell_type": "markdown",
   "metadata": {},
   "source": [
    "Bước 1: Chuyển kiểu dữ liệu cho acoustic_data từ int64 về int16 nhằm tiết kiệm bộ nhớ "
   ]
  },
  {
   "cell_type": "code",
   "execution_count": 15,
   "metadata": {},
   "outputs": [],
   "source": [
    "\n",
    "train = pd.read_csv('data/train.csv', nrows=6000000, dtype={'acoustic_data': np.int16, \n",
    "                                                                                 'time_to_ failure': np.float64})"
   ]
  },
  {
   "cell_type": "markdown",
   "metadata": {},
   "source": [
    "Bước 2: Kiếm tra xem có tồn tại giá trị null trong tập train hay không "
   ]
  },
  {
   "cell_type": "code",
   "execution_count": 16,
   "metadata": {},
   "outputs": [
    {
     "name": "stdout",
     "output_type": "stream",
     "text": [
      "False\n",
      "False\n"
     ]
    }
   ],
   "source": [
    "#check null\n",
    "print(train.acoustic_data.isnull().values.any())\n",
    "print(train.time_to_failure.isnull().values.any())"
   ]
  },
  {
   "cell_type": "markdown",
   "metadata": {},
   "source": [
    "Bước 3: Biểu diễn phân bố "
   ]
  },
  {
   "cell_type": "code",
   "execution_count": 54,
   "metadata": {},
   "outputs": [
    {
     "data": {
      "image/png": "[encoded data removed]",
      "text/plain": [
       "<Figure size 432x288 with 1 Axes>"
      ]
     },
     "metadata": {
      "needs_background": "light"
     },
     "output_type": "display_data"
    }
   ],
   "source": [
    "#Version 1\n",
    "#Acoustic data distribution\n",
    "# train_sample = train.sample(frac=0.1) \n",
    "# plt.figure(figsize=(10,5)) \n",
    "# plt.title(\"Acoustic data distribution\") \n",
    "# ax = sns.distplot(train_sample.acoustic_data)\n",
    "\n",
    "#Version 2\n",
    "train_sample = train.sample(frac=0.1)\n",
    "train_sample['acoustic_data'].hist(bins=30, range = [-15,15], align='mid')\n",
    "plt.title(\"Distribution of acoustic data\")\n",
    "plt.xlabel('acoustic data')\n",
    "plt.ylabel('examples')\n",
    "plt.show()"
   ]
  },
  {
   "cell_type": "markdown",
   "metadata": {},
   "source": [
    " Tiến hành lấy mẫu 600000 dữ liệu và vẽ biểu đồ sự phân bố  của acoustic data trong khoảng từ [-15.15] "
   ]
  },
  {
   "cell_type": "code",
   "execution_count": 28,
   "metadata": {},
   "outputs": [
    {
     "data": {
      "image/png": "[encoded data removed]",
      "text/plain": [
       "<Figure size 432x288 with 1 Axes>"
      ]
     },
     "metadata": {
      "needs_background": "light"
     },
     "output_type": "display_data"
    }
   ],
   "source": [
    "#Version 1\n",
    "# plt.figure(figsize=(10,5)) \n",
    "# plt.title(\"Time to failure distribution\") \n",
    "# ax = sns.kdeplot(train_sample.time_to_failure)\n",
    "\n",
    "#Version 2\n",
    "train_sample['time_to_failure'].hist(bins=50, range = [-5,15], align='mid')\n",
    "plt.title(\"Distribution of time to failure\")\n",
    "plt.xlabel('Time to failure data')\n",
    "plt.ylabel('examples')\n",
    "plt.show()\n",
    "del train_sample"
   ]
  },
  {
   "cell_type": "markdown",
   "metadata": {},
   "source": [
    "Sự phân bố của time_to_failure nằm trong khoảng [0, 12]. Trong đó tập trung trong khoảng từ [0,2]"
   ]
  },
  {
   "cell_type": "markdown",
   "metadata": {},
   "source": [
    "Bước 4: Biểu diễn các cặp giá trị (acoustic, time)"
   ]
  },
  {
   "cell_type": "code",
   "execution_count": 43,
   "metadata": {
    "scrolled": true
   },
   "outputs": [
    {
     "data": {
      "image/png": "[encoded data removed]",
      "text/plain": [
       "<Figure size 1152x576 with 2 Axes>"
      ]
     },
     "metadata": {
      "needs_background": "light"
     },
     "output_type": "display_data"
    }
   ],
   "source": [
    "#Lấy 6000000/5 = 1200000 mẫu dữ liệu \n",
    "train_acoustic_data_small = train['acoustic_data'].values[::5]\n",
    "train_time_to_failure_small = train['time_to_failure'].values[::5]\n",
    "\n",
    "fig, ax1 = plt.subplots(figsize=(16, 8))\n",
    "plt.title(\"Trends of acoustic_data and time_to_failure. 600 datas\")\n",
    "\n",
    "#Vẽ acoustic data\n",
    "plt.plot(train_acoustic_data_small, color='b')\n",
    "ax1.set_ylabel('acoustic_data', color='b')\n",
    "ax1.set_xlabel('Trials')\n",
    "plt.legend(['acoustic_data'])\n",
    "\n",
    "#Vẽ time_to_failure data\n",
    "ax2 = ax1.twinx()\n",
    "plt.plot(train_time_to_failure_small, color='r')\n",
    "ax2.set_ylabel('time_to_failure', color='r')\n",
    "plt.legend(['time_to_failure'], loc=(0.875, 0.9))\n",
    "\n",
    "#Giải phóng\n",
    "del train_acoustic_data_small\n",
    "del train_time_to_failure_small"
   ]
  },
  {
   "cell_type": "markdown",
   "metadata": {},
   "source": [
    "**Nhận xét**\n",
    "- Chúng ta có thể thấy rằng thông thường dữ liệu tín hiệu cho thấy những biến động lớn ngay trước khi xảy ra động đất và bản chất của dữ liệu là theo chu kỳ.\n",
    "- Một điểm quan trọng khác: các lỗi bằng mắt thường có thể được dự đoán là các trường hợp khi các biến động lớn của tín hiệu được theo sau bởi các giá trị tín hiệu nhỏ cần tìm cách xử lí.\n",
    "- Tín hiệu có dạng âm thanh, có thể tiến hành xử lí trong một số trường dữ liệu khác như là như là FFT. \n",
    "\n"
   ]
  },
  {
   "cell_type": "markdown",
   "metadata": {},
   "source": [
    "### Tập kiểm tra"
   ]
  },
  {
   "cell_type": "markdown",
   "metadata": {},
   "source": [
    "Kiếm tra thông tin về tập một số  tập test"
   ]
  },
  {
   "cell_type": "code",
   "execution_count": 48,
   "metadata": {},
   "outputs": [
    {
     "name": "stdout",
     "output_type": "stream",
     "text": [
      "<class 'pandas.core.frame.DataFrame'>\n",
      "RangeIndex: 150000 entries, 0 to 149999\n",
      "Data columns (total 1 columns):\n",
      " #   Column         Non-Null Count   Dtype\n",
      "---  ------         --------------   -----\n",
      " 0   acoustic_data  150000 non-null  int64\n",
      "dtypes: int64(1)\n",
      "memory usage: 1.1 MB\n"
     ]
    }
   ],
   "source": [
    "test1 = pd.read_csv('data/test/seg_00030f.csv') \n",
    "test2 = pd.read_csv('data/test/seg_1dec9c.csv') \n",
    "test3 = pd.read_csv('data/test/seg_5cfba9.csv') \n",
    "\n",
    "test1.info()"
   ]
  },
  {
   "cell_type": "code",
   "execution_count": 12,
   "metadata": {},
   "outputs": [
    {
     "name": "stdout",
     "output_type": "stream",
     "text": [
      "       acoustic_data\n",
      "count   150000.00000\n",
      "mean         4.49178\n",
      "std          4.89369\n",
      "min        -75.00000\n",
      "25%          2.00000\n",
      "50%          4.00000\n",
      "75%          7.00000\n",
      "max        115.00000\n"
     ]
    }
   ],
   "source": [
    "print(test1.describe())"
   ]
  },
  {
   "cell_type": "code",
   "execution_count": 50,
   "metadata": {},
   "outputs": [
    {
     "name": "stdout",
     "output_type": "stream",
     "text": [
      "       acoustic_data\n",
      "count  150000.000000\n",
      "mean        3.906607\n",
      "std         3.405044\n",
      "min       -60.000000\n",
      "25%         2.000000\n",
      "50%         4.000000\n",
      "75%         6.000000\n",
      "max        73.000000\n"
     ]
    }
   ],
   "source": [
    "print(test2.describe())"
   ]
  },
  {
   "cell_type": "code",
   "execution_count": 51,
   "metadata": {},
   "outputs": [
    {
     "name": "stdout",
     "output_type": "stream",
     "text": [
      "       acoustic_data\n",
      "count  150000.000000\n",
      "mean        4.223547\n",
      "std         4.013158\n",
      "min       -75.000000\n",
      "25%         2.000000\n",
      "50%         4.000000\n",
      "75%         6.000000\n",
      "max        79.000000\n"
     ]
    }
   ],
   "source": [
    "print(test3.describe())"
   ]
  },
  {
   "cell_type": "markdown",
   "metadata": {},
   "source": [
    "Visualize sự phân bố của acoustic data trong khỏang [-15,15]"
   ]
  },
  {
   "cell_type": "code",
   "execution_count": 52,
   "metadata": {},
   "outputs": [
    {
     "data": {
      "text/plain": [
       "Text(0.5, 1.0, 'Distribution of acoustic data in test 1')"
      ]
     },
     "execution_count": 52,
     "metadata": {},
     "output_type": "execute_result"
    },
    {
     "data": {
      "image/png": "[encoded data removed]",
      "text/plain": [
       "<Figure size 1152x720 with 3 Axes>"
      ]
     },
     "metadata": {
      "needs_background": "light"
     },
     "output_type": "display_data"
    }
   ],
   "source": [
    "f, axarr = plt.subplots(1, 3,figsize=(16,10))\n",
    "\n",
    "axarr[0].hist(test1.acoustic_data, bins=30, range = [-15,15], align='mid')\n",
    "axarr[0].set_title(\"Distribution of acoustic data in test 1\")\n",
    "\n",
    "axarr[1].hist(test2.acoustic_data, bins=30, range = [-15,15], align='mid')\n",
    "axarr[1].set_title(\"Distribution of acoustic data in test 1\")\n",
    "\n",
    "axarr[2].hist(test3.acoustic_data, bins=30, range = [-15,15], align='mid')\n",
    "axarr[2].set_title(\"Distribution of acoustic data in test 1\")"
   ]
  },
  {
   "cell_type": "markdown",
   "metadata": {},
   "source": [
    "Ta có thể thấy sự phân bố của acoustic data trong test tương đối giống với tập train "
   ]
  },
  {
   "cell_type": "markdown",
   "metadata": {},
   "source": [
    "## Trích chọn đặc trưng "
   ]
  },
  {
   "cell_type": "markdown",
   "metadata": {},
   "source": [
    "Một số Function phục vụ trích trọn đăc trưng "
   ]
  },
  {
   "cell_type": "markdown",
   "metadata": {},
   "source": [
    "Dự đoán độ dốc (số đo góc) của đường thẳng hồi quy tuyến tính"
   ]
  },
  {
   "cell_type": "code",
   "execution_count": 95,
   "metadata": {},
   "outputs": [],
   "source": [
    "def add_trend_feature(arr, abs_values=False):\n",
    "    idx = np.array(range(len(arr)))\n",
    "    if abs_values:\n",
    "        arr = np.abs(arr)\n",
    "    lr = LinearRegression()\n",
    "    lr.fit(idx.reshape(-1, 1), arr)\n",
    "    return lr.coef_[0]"
   ]
  },
  {
   "cell_type": "code",
   "execution_count": 72,
   "metadata": {},
   "outputs": [],
   "source": [
    "#Chênh lệch trung bình giữa các giá trị liên tiếp về giá trị phần trăm;\n",
    "def calc_change_rate(x):\n",
    "    change = (np.diff(x) / x[:-1]).values\n",
    "    change = change[np.nonzero(change)[0]]\n",
    "    change = change[~np.isnan(change)]\n",
    "    change = change[change != -np.inf]\n",
    "    change = change[change != np.inf]\n",
    "    return np.mean(change)"
   ]
  },
  {
   "attachments": {
    "image.png": {
     "image/png": "[encoded data removed]"
    }
   },
   "cell_type": "markdown",
   "metadata": {},
   "source": [
    "Mỗi dòng trong file test có 150000 cột tín hiệu. Vì vậy,em dùng hàm for để đọc, mỗi lần đọc lấy ra 150000 dữ liệu từ tập train rồi tiến hành trích chọn đăng trưng ngay sau đó.\n",
    "Có hai hướng trích chọn đăc trưng:\n",
    "- Lấy nguyên dữ liệu **raw** để sử dụng cho mô hình deep learning.\n",
    "- Trích chọn các feature để đưa vào các mô hình học máy. \n",
    "\n",
    "Một số feature được lưa chọn để đưa vào mô hình học máy:\n",
    "- Trong trường biểu diễn ban đầu \n",
    "    - Một số tổng hợp thông thường: mean, std, min, max  \n",
    "    - Chênh lệch trung bình giữa các giá trị liên tiếp về giá trị tuyệt đối và giá trị phần trăm;   \n",
    "    - Tổng hợp nói trên cho các giá trị 10000 và 50000 đầu tiên và cuối cùng \n",
    "    - Thương, hiệu giữa đồ lớn max và abs(min), đếm các khoảng cách max và min > một ngưỡng.  \n",
    "    - Tính toán Quantile\n",
    "    - Trend features   \n",
    "    - Rolling features tisnht toán các chỉ số bằng cách dùng cửa sổ cuoojn\n",
    "\n",
    "Quantile: q-th quantile tính toán lượng tử thứ q ở phân bố mô tả sự phân bố và sự phân tán của tập dữ liệu trong từng phần. \n",
    "![image.png](attachment:image.png)"
   ]
  },
  {
   "cell_type": "code",
   "execution_count": 73,
   "metadata": {},
   "outputs": [],
   "source": [
    "x = pd.Series(train['acoustic_data'].values)\n",
    "change = (np.diff(x) / x[:-1]).values"
   ]
  },
  {
   "cell_type": "code",
   "execution_count": 99,
   "metadata": {
    "scrolled": true
   },
   "outputs": [
    {
     "name": "stderr",
     "output_type": "stream",
     "text": [
      "100%|██████████| 400/400 [09:45<00:00,  1.46s/it]\n"
     ]
    }
   ],
   "source": [
    "rows = 150000\n",
    "parts = int(60000000/rows)\n",
    "\n",
    "X= pd.DataFrame(index=range(parts), dtype=np.float64)\n",
    "Y= pd.DataFrame(index=range(parts), dtype=np.float64,columns=['time_to_failure']) \n",
    "\n",
    "total_mean = train['acoustic_data'].mean()\n",
    "total_std = train['acoustic_data'].std()\n",
    "total_max = train['acoustic_data'].max()\n",
    "total_min = train['acoustic_data'].min()\n",
    "total_sum = train['acoustic_data'].sum()\n",
    "total_abs_sum = np.abs(train['acoustic_data']).sum()\n",
    "\n",
    "for segment in tqdm(range(parts)): \n",
    "    data = pd.read_csv('data/train.csv', nrows = rows, skiprows=segment*rows+1)\n",
    "    x = data.iloc[:,[0]].values\n",
    "    x = pd.Series(x.reshape(len(x),))\n",
    "    y = data.iloc[:,[1]].values[-1]\n",
    "    \n",
    "    Y.loc[segment, 'time_to_failure'] = y\n",
    "    \n",
    "    #Một số tổng hợp thông thường: mean, std, min, max\n",
    "    X.loc[segment, 'mean'] = x.mean()\n",
    "    X.loc[segment, 'std'] = x.std()\n",
    "    X.loc[segment, 'abs_mean'] = np.abs(x).mean()\n",
    "    X.loc[segment, 'abs_std'] = np.abs(x).std()\n",
    "    X.loc[segment, 'max'] = x.max()\n",
    "    X.loc[segment, 'min'] = x.min()\n",
    "    X.loc[segment, 'abs_max'] = np.abs(x).max()\n",
    "    X.loc[segment, 'abs_min'] = np.abs(x).min()\n",
    "    \n",
    "    #Chênh lệch trung bình giữa các giá trị liên tiếp về giá trị tuyệt đối và giá trị phần trăm;\n",
    "    X.loc[segment, 'mean_change_abs'] = np.mean(np.diff(x))\n",
    "    X.loc[segment, 'mean_change_rate'] = calc_change_rate(x)\n",
    "\n",
    "    #Lấy mẫu n phần từ đầu tiến và n phần tử cuối cùng rồi tính toán \n",
    "    X.loc[segment, 'std_first_50000'] = x[:50000].std()\n",
    "    X.loc[segment, 'std_last_50000'] = x[-50000:].std()\n",
    "    X.loc[segment, 'std_first_10000'] = x[:10000].std()\n",
    "    X.loc[segment, 'std_last_10000'] = x[-10000:].std()\n",
    "    \n",
    "    X.loc[segment, 'avg_first_50000'] = x[:50000].mean()\n",
    "    X.loc[segment, 'avg_last_50000'] = x[-50000:].mean()\n",
    "    X.loc[segment, 'avg_first_10000'] = x[:10000].mean()\n",
    "    X.loc[segment, 'avg_last_10000'] = x[-10000:].mean()\n",
    "    \n",
    "    X.loc[segment, 'min_first_50000'] = x[:50000].min()\n",
    "    X.loc[segment, 'min_last_50000'] = x[-50000:].min()\n",
    "    X.loc[segment, 'min_first_10000'] = x[:10000].min()\n",
    "    X.loc[segment, 'min_last_10000'] = x[-10000:].min()\n",
    "    \n",
    "    X.loc[segment, 'max_first_50000'] = x[:50000].max()\n",
    "    X.loc[segment, 'max_last_50000'] = x[-50000:].max()\n",
    "    X.loc[segment, 'max_first_10000'] = x[:10000].max()\n",
    "    X.loc[segment, 'max_last_10000'] = x[-10000:].max()\n",
    "    \n",
    "    X.loc[segment, 'abs_min_first_50000'] = np.abs(x[:50000]).min()\n",
    "    X.loc[segment, 'abs_min_last_50000'] = np.abs(x[:50000]).min()\n",
    "    X.loc[segment, 'abs_min_first_10000'] = np.abs(x[:10000]).min()\n",
    "    X.loc[segment, 'abs_min_last_10000'] = np.abs(x[:10000]).min()\n",
    "    \n",
    "    X.loc[segment, 'abs_max_first_50000'] = np.abs(x[:50000]).max()\n",
    "    X.loc[segment, 'abs_max_last_50000'] = np.abs(x[:50000]).max()\n",
    "    X.loc[segment, 'abs_max_first_10000'] = np.abs(x[:10000]).max()\n",
    "    X.loc[segment, 'abs_max_last_10000'] = np.abs(x[:10000]).max()\n",
    "    \n",
    "    X.loc[segment, 'mean_change_rate_first_50000'] = calc_change_rate(x[:50000])\n",
    "    X.loc[segment, 'mean_change_rate_last_50000'] = calc_change_rate(x[-50000:])\n",
    "    X.loc[segment, 'mean_change_rate_first_10000'] = calc_change_rate(x[:10000])\n",
    "    X.loc[segment, 'mean_change_rate_last_10000'] = calc_change_rate(x[-10000:])\n",
    "    \n",
    "    #Thương, hiệu giữa đồ lớn max và abs(min), đếm các khoảng cách max và min > một ngưỡng \n",
    "    X.loc[segment, 'max_to_min'] = x.max() / np.abs(x.min())\n",
    "    X.loc[segment, 'max_to_min_diff'] = x.max() - np.abs(x.min())\n",
    "    X.loc[segment, 'count_big'] = len(x[np.abs(x) > 500])\n",
    "    X.loc[segment, 'sum'] = x.sum()\n",
    "    \n",
    "    #Tính toán Quantile\n",
    "    X.loc[segment, 'q95'] = np.quantile(x, 0.95)\n",
    "    X.loc[segment, 'q99'] = np.quantile(x, 0.99)\n",
    "    X.loc[segment, 'q05'] = np.quantile(x, 0.05)\n",
    "    X.loc[segment, 'q01'] = np.quantile(x, 0.01)\n",
    "    X.loc[segment, 'q999'] = np.quantile(x,0.999)\n",
    "    X.loc[segment, 'q001'] = np.quantile(x,0.001)\n",
    "    X.loc[segment, 'med'] = x.median()\n",
    "    X.loc[segment, 'abs_q95'] = np.quantile(np.abs(x), 0.95)\n",
    "    X.loc[segment, 'abs_q99'] = np.quantile(np.abs(x), 0.99)\n",
    "    X.loc[segment, 'abs_q05'] = np.quantile(np.abs(x), 0.05)\n",
    "    X.loc[segment, 'abs_q01'] = np.quantile(np.abs(x), 0.01)\n",
    "    \n",
    "    #trend\n",
    "    X.loc[segment, 'trend'] = add_trend_feature(x)\n",
    "    X.loc[segment, 'abs_trend'] = add_trend_feature(x, abs_values=True)\n",
    "\n",
    "    \n",
    "    #Một số chỉ số khác \n",
    "    X.loc[segment, 'mad'] = x.mad()\n",
    "    X.loc[segment, 'kurt'] = x.kurtosis()\n",
    "    X.loc[segment, 'skew'] = x.skew()\n",
    "    X.loc[segment, 'Hilbert_mean'] = np.abs(hilbert(x)).mean()\n",
    "    X.loc[segment, 'Hann_window_mean'] = (convolve(x, hann(150), mode='same') / sum(hann(150))).mean()\n",
    "    \n",
    "    #rolling \n",
    "    for windows in [10, 100, 1000]:\n",
    "        x_roll_std = x.rolling(windows).std().dropna().values\n",
    "        x_roll_mean = x.rolling(windows).mean().dropna().values\n",
    "        \n",
    "        X.loc[segment, 'ave_roll_std_' + str(windows)] = x_roll_std.mean()\n",
    "        X.loc[segment, 'std_roll_std_' + str(windows)] = x_roll_std.std()\n",
    "        X.loc[segment, 'max_roll_std_' + str(windows)] = x_roll_std.max()\n",
    "        X.loc[segment, 'min_roll_std_' + str(windows)] = x_roll_std.min()\n",
    "        \n",
    "        \n",
    "        X.loc[segment, 'q01_roll_std_' + str(windows)] = np.quantile(x_roll_std, 0.01)\n",
    "        X.loc[segment, 'q05_roll_std_' + str(windows)] = np.quantile(x_roll_std, 0.05)\n",
    "        X.loc[segment, 'q95_roll_std_' + str(windows)] = np.quantile(x_roll_std, 0.95)\n",
    "        X.loc[segment, 'q99_roll_std_' + str(windows)] = np.quantile(x_roll_std, 0.99)\n",
    "        X.loc[segment, 'q01_roll_mean_' + str(windows)] = np.quantile(x_roll_mean, 0.01)\n",
    "        X.loc[segment, 'q05_roll_mean_' + str(windows)] = np.quantile(x_roll_mean, 0.05)\n",
    "        X.loc[segment, 'q95_roll_mean_' + str(windows)] = np.quantile(x_roll_mean, 0.95)\n",
    "        X.loc[segment, 'q99_roll_mean_' + str(windows)] = np.quantile(x_roll_mean, 0.99)\n",
    "        \n",
    "        X.loc[segment, 'av_change_abs_roll_std_' + str(windows)] = np.mean(np.diff(x_roll_std))\n",
    "        X.loc[segment, 'av_change_abs_roll_mean_' + str(windows)] = np.mean(np.diff(x_roll_mean))\n",
    "        \n",
    "        X.loc[segment, 'abs_max_roll_std_' + str(windows)] = np.abs(x_roll_std).max()\n",
    "        X.loc[segment, 'abs_max_roll_mean_' + str(windows)] = np.abs(x_roll_mean).max()"
   ]
  },
  {
   "cell_type": "code",
   "execution_count": 100,
   "metadata": {},
   "outputs": [
    {
     "data": {
      "text/html": [
       "<div>\n",
       "<style scoped>\n",
       "    .dataframe tbody tr th:only-of-type {\n",
       "        vertical-align: middle;\n",
       "    }\n",
       "\n",
       "    .dataframe tbody tr th {\n",
       "        vertical-align: top;\n",
       "    }\n",
       "\n",
       "    .dataframe thead th {\n",
       "        text-align: right;\n",
       "    }\n",
       "</style>\n",
       "<table border=\"1\" class=\"dataframe\">\n",
       "  <thead>\n",
       "    <tr style=\"text-align: right;\">\n",
       "      <th></th>\n",
       "      <th>mean</th>\n",
       "      <th>std</th>\n",
       "      <th>abs_mean</th>\n",
       "      <th>abs_std</th>\n",
       "      <th>max</th>\n",
       "      <th>min</th>\n",
       "      <th>abs_max</th>\n",
       "      <th>abs_min</th>\n",
       "      <th>mean_change_abs</th>\n",
       "      <th>mean_change_rate</th>\n",
       "      <th>...</th>\n",
       "      <th>q95_roll_std_1000</th>\n",
       "      <th>q99_roll_std_1000</th>\n",
       "      <th>q01_roll_mean_1000</th>\n",
       "      <th>q05_roll_mean_1000</th>\n",
       "      <th>q95_roll_mean_1000</th>\n",
       "      <th>q99_roll_mean_1000</th>\n",
       "      <th>av_change_abs_roll_std_1000</th>\n",
       "      <th>av_change_abs_roll_mean_1000</th>\n",
       "      <th>abs_max_roll_std_1000</th>\n",
       "      <th>abs_max_roll_mean_1000</th>\n",
       "    </tr>\n",
       "  </thead>\n",
       "  <tbody>\n",
       "    <tr>\n",
       "      <th>0</th>\n",
       "      <td>4.884067</td>\n",
       "      <td>5.101073</td>\n",
       "      <td>5.576520</td>\n",
       "      <td>4.333293</td>\n",
       "      <td>104.0</td>\n",
       "      <td>-98.0</td>\n",
       "      <td>104.0</td>\n",
       "      <td>0.0</td>\n",
       "      <td>-0.000007</td>\n",
       "      <td>0.036142</td>\n",
       "      <td>...</td>\n",
       "      <td>8.185756</td>\n",
       "      <td>15.055998</td>\n",
       "      <td>4.072</td>\n",
       "      <td>4.379</td>\n",
       "      <td>5.338</td>\n",
       "      <td>5.484</td>\n",
       "      <td>-1.176763e-05</td>\n",
       "      <td>-0.000002</td>\n",
       "      <td>31.029445</td>\n",
       "      <td>5.629</td>\n",
       "    </tr>\n",
       "    <tr>\n",
       "      <th>1</th>\n",
       "      <td>4.725767</td>\n",
       "      <td>6.588824</td>\n",
       "      <td>5.734167</td>\n",
       "      <td>5.732777</td>\n",
       "      <td>181.0</td>\n",
       "      <td>-154.0</td>\n",
       "      <td>181.0</td>\n",
       "      <td>0.0</td>\n",
       "      <td>-0.000007</td>\n",
       "      <td>0.022627</td>\n",
       "      <td>...</td>\n",
       "      <td>10.544982</td>\n",
       "      <td>33.704332</td>\n",
       "      <td>4.233</td>\n",
       "      <td>4.345</td>\n",
       "      <td>5.066</td>\n",
       "      <td>5.223</td>\n",
       "      <td>-2.325508e-07</td>\n",
       "      <td>-0.000002</td>\n",
       "      <td>38.643217</td>\n",
       "      <td>5.667</td>\n",
       "    </tr>\n",
       "    <tr>\n",
       "      <th>2</th>\n",
       "      <td>4.906393</td>\n",
       "      <td>6.967397</td>\n",
       "      <td>6.152647</td>\n",
       "      <td>5.895945</td>\n",
       "      <td>140.0</td>\n",
       "      <td>-106.0</td>\n",
       "      <td>140.0</td>\n",
       "      <td>0.0</td>\n",
       "      <td>0.000000</td>\n",
       "      <td>0.023749</td>\n",
       "      <td>...</td>\n",
       "      <td>14.845834</td>\n",
       "      <td>23.928873</td>\n",
       "      <td>4.239</td>\n",
       "      <td>4.446</td>\n",
       "      <td>5.344</td>\n",
       "      <td>5.486</td>\n",
       "      <td>2.453017e-06</td>\n",
       "      <td>0.000001</td>\n",
       "      <td>35.326896</td>\n",
       "      <td>5.957</td>\n",
       "    </tr>\n",
       "    <tr>\n",
       "      <th>3</th>\n",
       "      <td>4.902287</td>\n",
       "      <td>6.922329</td>\n",
       "      <td>5.934007</td>\n",
       "      <td>6.061233</td>\n",
       "      <td>197.0</td>\n",
       "      <td>-199.0</td>\n",
       "      <td>199.0</td>\n",
       "      <td>0.0</td>\n",
       "      <td>0.000113</td>\n",
       "      <td>0.042489</td>\n",
       "      <td>...</td>\n",
       "      <td>11.715642</td>\n",
       "      <td>21.950987</td>\n",
       "      <td>4.304</td>\n",
       "      <td>4.433</td>\n",
       "      <td>5.317</td>\n",
       "      <td>5.453</td>\n",
       "      <td>-3.214489e-06</td>\n",
       "      <td>-0.000003</td>\n",
       "      <td>52.805653</td>\n",
       "      <td>5.858</td>\n",
       "    </tr>\n",
       "    <tr>\n",
       "      <th>4</th>\n",
       "      <td>4.908733</td>\n",
       "      <td>7.301125</td>\n",
       "      <td>6.110600</td>\n",
       "      <td>6.329500</td>\n",
       "      <td>145.0</td>\n",
       "      <td>-126.0</td>\n",
       "      <td>145.0</td>\n",
       "      <td>0.0</td>\n",
       "      <td>0.000053</td>\n",
       "      <td>0.038665</td>\n",
       "      <td>...</td>\n",
       "      <td>13.923676</td>\n",
       "      <td>31.978199</td>\n",
       "      <td>4.434</td>\n",
       "      <td>4.543</td>\n",
       "      <td>5.306</td>\n",
       "      <td>5.491</td>\n",
       "      <td>3.529087e-05</td>\n",
       "      <td>0.000002</td>\n",
       "      <td>45.532439</td>\n",
       "      <td>6.078</td>\n",
       "    </tr>\n",
       "  </tbody>\n",
       "</table>\n",
       "<p>5 rows × 108 columns</p>\n",
       "</div>"
      ],
      "text/plain": [
       "       mean       std  abs_mean   abs_std    max    min  abs_max  abs_min  \\\n",
       "0  4.884067  5.101073  5.576520  4.333293  104.0  -98.0    104.0      0.0   \n",
       "1  4.725767  6.588824  5.734167  5.732777  181.0 -154.0    181.0      0.0   \n",
       "2  4.906393  6.967397  6.152647  5.895945  140.0 -106.0    140.0      0.0   \n",
       "3  4.902287  6.922329  5.934007  6.061233  197.0 -199.0    199.0      0.0   \n",
       "4  4.908733  7.301125  6.110600  6.329500  145.0 -126.0    145.0      0.0   \n",
       "\n",
       "   mean_change_abs  mean_change_rate  ...  q95_roll_std_1000  \\\n",
       "0        -0.000007          0.036142  ...           8.185756   \n",
       "1        -0.000007          0.022627  ...          10.544982   \n",
       "2         0.000000          0.023749  ...          14.845834   \n",
       "3         0.000113          0.042489  ...          11.715642   \n",
       "4         0.000053          0.038665  ...          13.923676   \n",
       "\n",
       "   q99_roll_std_1000  q01_roll_mean_1000  q05_roll_mean_1000  \\\n",
       "0          15.055998               4.072               4.379   \n",
       "1          33.704332               4.233               4.345   \n",
       "2          23.928873               4.239               4.446   \n",
       "3          21.950987               4.304               4.433   \n",
       "4          31.978199               4.434               4.543   \n",
       "\n",
       "   q95_roll_mean_1000  q99_roll_mean_1000  av_change_abs_roll_std_1000  \\\n",
       "0               5.338               5.484                -1.176763e-05   \n",
       "1               5.066               5.223                -2.325508e-07   \n",
       "2               5.344               5.486                 2.453017e-06   \n",
       "3               5.317               5.453                -3.214489e-06   \n",
       "4               5.306               5.491                 3.529087e-05   \n",
       "\n",
       "   av_change_abs_roll_mean_1000  abs_max_roll_std_1000  abs_max_roll_mean_1000  \n",
       "0                     -0.000002              31.029445                   5.629  \n",
       "1                     -0.000002              38.643217                   5.667  \n",
       "2                      0.000001              35.326896                   5.957  \n",
       "3                     -0.000003              52.805653                   5.858  \n",
       "4                      0.000002              45.532439                   6.078  \n",
       "\n",
       "[5 rows x 108 columns]"
      ]
     },
     "execution_count": 100,
     "metadata": {},
     "output_type": "execute_result"
    }
   ],
   "source": [
    "X.head()"
   ]
  },
  {
   "cell_type": "code",
   "execution_count": 101,
   "metadata": {},
   "outputs": [
    {
     "data": {
      "text/html": [
       "<div>\n",
       "<style scoped>\n",
       "    .dataframe tbody tr th:only-of-type {\n",
       "        vertical-align: middle;\n",
       "    }\n",
       "\n",
       "    .dataframe tbody tr th {\n",
       "        vertical-align: top;\n",
       "    }\n",
       "\n",
       "    .dataframe thead th {\n",
       "        text-align: right;\n",
       "    }\n",
       "</style>\n",
       "<table border=\"1\" class=\"dataframe\">\n",
       "  <thead>\n",
       "    <tr style=\"text-align: right;\">\n",
       "      <th></th>\n",
       "      <th>time_to_failure</th>\n",
       "    </tr>\n",
       "  </thead>\n",
       "  <tbody>\n",
       "    <tr>\n",
       "      <th>0</th>\n",
       "      <td>1.430797</td>\n",
       "    </tr>\n",
       "    <tr>\n",
       "      <th>1</th>\n",
       "      <td>1.391499</td>\n",
       "    </tr>\n",
       "    <tr>\n",
       "      <th>2</th>\n",
       "      <td>1.353196</td>\n",
       "    </tr>\n",
       "    <tr>\n",
       "      <th>3</th>\n",
       "      <td>1.313798</td>\n",
       "    </tr>\n",
       "    <tr>\n",
       "      <th>4</th>\n",
       "      <td>1.274400</td>\n",
       "    </tr>\n",
       "  </tbody>\n",
       "</table>\n",
       "</div>"
      ],
      "text/plain": [
       "   time_to_failure\n",
       "0         1.430797\n",
       "1         1.391499\n",
       "2         1.353196\n",
       "3         1.313798\n",
       "4         1.274400"
      ]
     },
     "execution_count": 101,
     "metadata": {},
     "output_type": "execute_result"
    }
   ],
   "source": [
    "Y.head()"
   ]
  },
  {
   "cell_type": "markdown",
   "metadata": {},
   "source": [
    "Lưu dữ liệu đặc trưng để dùng cho những lần sử dụng sau này nếu cần."
   ]
  },
  {
   "cell_type": "code",
   "execution_count": 103,
   "metadata": {},
   "outputs": [],
   "source": [
    "X.to_csv('input')"
   ]
  },
  {
   "cell_type": "markdown",
   "metadata": {},
   "source": [
    "# Modeling"
   ]
  },
  {
   "cell_type": "markdown",
   "metadata": {},
   "source": [
    "Có hai hướng tiếp cận là dùng kĩ thuật học máy cho các đặc trưng đã trích chọn và dùng deeplearning"
   ]
  },
  {
   "cell_type": "markdown",
   "metadata": {},
   "source": [
    "## Hướng tiếp cận machine learning"
   ]
  },
  {
   "cell_type": "markdown",
   "metadata": {},
   "source": [
    "Chuẩn hóa dữ liệu về trung bình = 0, độ lệch chuẩn về 1"
   ]
  },
  {
   "cell_type": "code",
   "execution_count": 105,
   "metadata": {},
   "outputs": [],
   "source": [
    "from sklearn.preprocessing import StandardScaler \n",
    "scaler = StandardScaler() \n",
    "scaler.fit(X) \n",
    "X = scaler.transform(X)"
   ]
  },
  {
   "cell_type": "code",
   "execution_count": 106,
   "metadata": {
    "scrolled": true
   },
   "outputs": [
    {
     "data": {
      "text/html": [
       "<div>\n",
       "<style scoped>\n",
       "    .dataframe tbody tr th:only-of-type {\n",
       "        vertical-align: middle;\n",
       "    }\n",
       "\n",
       "    .dataframe tbody tr th {\n",
       "        vertical-align: top;\n",
       "    }\n",
       "\n",
       "    .dataframe thead th {\n",
       "        text-align: right;\n",
       "    }\n",
       "</style>\n",
       "<table border=\"1\" class=\"dataframe\">\n",
       "  <thead>\n",
       "    <tr style=\"text-align: right;\">\n",
       "      <th></th>\n",
       "      <th>0</th>\n",
       "      <th>1</th>\n",
       "      <th>2</th>\n",
       "      <th>3</th>\n",
       "      <th>4</th>\n",
       "      <th>5</th>\n",
       "      <th>6</th>\n",
       "      <th>7</th>\n",
       "      <th>8</th>\n",
       "      <th>9</th>\n",
       "      <th>...</th>\n",
       "      <th>98</th>\n",
       "      <th>99</th>\n",
       "      <th>100</th>\n",
       "      <th>101</th>\n",
       "      <th>102</th>\n",
       "      <th>103</th>\n",
       "      <th>104</th>\n",
       "      <th>105</th>\n",
       "      <th>106</th>\n",
       "      <th>107</th>\n",
       "    </tr>\n",
       "  </thead>\n",
       "  <tbody>\n",
       "    <tr>\n",
       "      <th>0</th>\n",
       "      <td>1.893342</td>\n",
       "      <td>-0.122717</td>\n",
       "      <td>0.057079</td>\n",
       "      <td>-0.126082</td>\n",
       "      <td>-0.178456</td>\n",
       "      <td>0.146459</td>\n",
       "      <td>-0.178649</td>\n",
       "      <td>0.0</td>\n",
       "      <td>-0.107710</td>\n",
       "      <td>0.127100</td>\n",
       "      <td>...</td>\n",
       "      <td>-0.310324</td>\n",
       "      <td>-0.158831</td>\n",
       "      <td>0.319657</td>\n",
       "      <td>1.129618</td>\n",
       "      <td>1.922394</td>\n",
       "      <td>0.963557</td>\n",
       "      <td>-0.295590</td>\n",
       "      <td>-0.637460</td>\n",
       "      <td>-0.077511</td>\n",
       "      <td>0.014685</td>\n",
       "    </tr>\n",
       "    <tr>\n",
       "      <th>1</th>\n",
       "      <td>1.073345</td>\n",
       "      <td>0.024569</td>\n",
       "      <td>0.148725</td>\n",
       "      <td>0.014906</td>\n",
       "      <td>0.108700</td>\n",
       "      <td>-0.037106</td>\n",
       "      <td>0.061263</td>\n",
       "      <td>0.0</td>\n",
       "      <td>-0.107710</td>\n",
       "      <td>-0.211447</td>\n",
       "      <td>...</td>\n",
       "      <td>0.064639</td>\n",
       "      <td>0.124151</td>\n",
       "      <td>0.689700</td>\n",
       "      <td>0.987316</td>\n",
       "      <td>0.661192</td>\n",
       "      <td>0.312657</td>\n",
       "      <td>0.030904</td>\n",
       "      <td>-0.941640</td>\n",
       "      <td>-0.001694</td>\n",
       "      <td>0.028331</td>\n",
       "    </tr>\n",
       "    <tr>\n",
       "      <th>2</th>\n",
       "      <td>2.008995</td>\n",
       "      <td>0.062047</td>\n",
       "      <td>0.392003</td>\n",
       "      <td>0.031344</td>\n",
       "      <td>-0.044202</td>\n",
       "      <td>0.120235</td>\n",
       "      <td>-0.066482</td>\n",
       "      <td>0.0</td>\n",
       "      <td>0.001640</td>\n",
       "      <td>-0.183342</td>\n",
       "      <td>...</td>\n",
       "      <td>0.748195</td>\n",
       "      <td>-0.024188</td>\n",
       "      <td>0.703491</td>\n",
       "      <td>1.410037</td>\n",
       "      <td>1.950215</td>\n",
       "      <td>0.968545</td>\n",
       "      <td>0.106917</td>\n",
       "      <td>0.473455</td>\n",
       "      <td>-0.034718</td>\n",
       "      <td>0.132471</td>\n",
       "    </tr>\n",
       "    <tr>\n",
       "      <th>3</th>\n",
       "      <td>1.987722</td>\n",
       "      <td>0.057585</td>\n",
       "      <td>0.264899</td>\n",
       "      <td>0.047996</td>\n",
       "      <td>0.168369</td>\n",
       "      <td>-0.184614</td>\n",
       "      <td>0.117347</td>\n",
       "      <td>0.0</td>\n",
       "      <td>1.860593</td>\n",
       "      <td>0.286085</td>\n",
       "      <td>...</td>\n",
       "      <td>0.250698</td>\n",
       "      <td>-0.054202</td>\n",
       "      <td>0.852887</td>\n",
       "      <td>1.355628</td>\n",
       "      <td>1.825022</td>\n",
       "      <td>0.886247</td>\n",
       "      <td>-0.053498</td>\n",
       "      <td>-0.983960</td>\n",
       "      <td>0.139334</td>\n",
       "      <td>0.096920</td>\n",
       "    </tr>\n",
       "    <tr>\n",
       "      <th>4</th>\n",
       "      <td>2.021116</td>\n",
       "      <td>0.095086</td>\n",
       "      <td>0.367559</td>\n",
       "      <td>0.075022</td>\n",
       "      <td>-0.025555</td>\n",
       "      <td>0.054676</td>\n",
       "      <td>-0.050903</td>\n",
       "      <td>0.0</td>\n",
       "      <td>0.876442</td>\n",
       "      <td>0.190298</td>\n",
       "      <td>...</td>\n",
       "      <td>0.601631</td>\n",
       "      <td>0.097958</td>\n",
       "      <td>1.151680</td>\n",
       "      <td>1.816017</td>\n",
       "      <td>1.774017</td>\n",
       "      <td>0.981014</td>\n",
       "      <td>1.036373</td>\n",
       "      <td>0.711508</td>\n",
       "      <td>0.066908</td>\n",
       "      <td>0.175922</td>\n",
       "    </tr>\n",
       "    <tr>\n",
       "      <th>...</th>\n",
       "      <td>...</td>\n",
       "      <td>...</td>\n",
       "      <td>...</td>\n",
       "      <td>...</td>\n",
       "      <td>...</td>\n",
       "      <td>...</td>\n",
       "      <td>...</td>\n",
       "      <td>...</td>\n",
       "      <td>...</td>\n",
       "      <td>...</td>\n",
       "      <td>...</td>\n",
       "      <td>...</td>\n",
       "      <td>...</td>\n",
       "      <td>...</td>\n",
       "      <td>...</td>\n",
       "      <td>...</td>\n",
       "      <td>...</td>\n",
       "      <td>...</td>\n",
       "      <td>...</td>\n",
       "      <td>...</td>\n",
       "      <td>...</td>\n",
       "    </tr>\n",
       "    <tr>\n",
       "      <th>395</th>\n",
       "      <td>0.883860</td>\n",
       "      <td>-0.177771</td>\n",
       "      <td>-0.153861</td>\n",
       "      <td>-0.166481</td>\n",
       "      <td>-0.182186</td>\n",
       "      <td>0.162849</td>\n",
       "      <td>-0.181765</td>\n",
       "      <td>0.0</td>\n",
       "      <td>-0.217060</td>\n",
       "      <td>0.947422</td>\n",
       "      <td>...</td>\n",
       "      <td>-0.334656</td>\n",
       "      <td>-0.149147</td>\n",
       "      <td>0.510424</td>\n",
       "      <td>0.719453</td>\n",
       "      <td>0.554546</td>\n",
       "      <td>0.220383</td>\n",
       "      <td>0.001006</td>\n",
       "      <td>1.052718</td>\n",
       "      <td>-0.150140</td>\n",
       "      <td>-0.053185</td>\n",
       "    </tr>\n",
       "    <tr>\n",
       "      <th>396</th>\n",
       "      <td>1.396924</td>\n",
       "      <td>-0.226224</td>\n",
       "      <td>-0.168949</td>\n",
       "      <td>-0.206992</td>\n",
       "      <td>-0.170998</td>\n",
       "      <td>0.244798</td>\n",
       "      <td>-0.172418</td>\n",
       "      <td>0.0</td>\n",
       "      <td>0.001640</td>\n",
       "      <td>1.156349</td>\n",
       "      <td>...</td>\n",
       "      <td>-0.590816</td>\n",
       "      <td>-0.197938</td>\n",
       "      <td>0.800024</td>\n",
       "      <td>1.250994</td>\n",
       "      <td>0.855937</td>\n",
       "      <td>0.302681</td>\n",
       "      <td>0.315411</td>\n",
       "      <td>0.071409</td>\n",
       "      <td>-0.175353</td>\n",
       "      <td>-0.074372</td>\n",
       "    </tr>\n",
       "    <tr>\n",
       "      <th>397</th>\n",
       "      <td>1.566103</td>\n",
       "      <td>-0.255250</td>\n",
       "      <td>-0.183579</td>\n",
       "      <td>-0.232411</td>\n",
       "      <td>-0.372380</td>\n",
       "      <td>0.326747</td>\n",
       "      <td>-0.340668</td>\n",
       "      <td>0.0</td>\n",
       "      <td>-0.107710</td>\n",
       "      <td>1.304979</td>\n",
       "      <td>...</td>\n",
       "      <td>-0.586128</td>\n",
       "      <td>-0.209623</td>\n",
       "      <td>0.227720</td>\n",
       "      <td>1.058467</td>\n",
       "      <td>1.829659</td>\n",
       "      <td>0.801455</td>\n",
       "      <td>0.007720</td>\n",
       "      <td>-0.724747</td>\n",
       "      <td>-0.252384</td>\n",
       "      <td>-0.028048</td>\n",
       "    </tr>\n",
       "    <tr>\n",
       "      <th>398</th>\n",
       "      <td>1.325923</td>\n",
       "      <td>-0.214965</td>\n",
       "      <td>-0.163430</td>\n",
       "      <td>-0.197059</td>\n",
       "      <td>-0.178456</td>\n",
       "      <td>0.143181</td>\n",
       "      <td>-0.178649</td>\n",
       "      <td>0.0</td>\n",
       "      <td>0.767092</td>\n",
       "      <td>1.266329</td>\n",
       "      <td>...</td>\n",
       "      <td>-0.454668</td>\n",
       "      <td>-0.151084</td>\n",
       "      <td>0.928734</td>\n",
       "      <td>1.405852</td>\n",
       "      <td>0.976493</td>\n",
       "      <td>0.340089</td>\n",
       "      <td>-0.001374</td>\n",
       "      <td>0.063474</td>\n",
       "      <td>-0.212324</td>\n",
       "      <td>-0.072217</td>\n",
       "    </tr>\n",
       "    <tr>\n",
       "      <th>399</th>\n",
       "      <td>2.310679</td>\n",
       "      <td>-0.249293</td>\n",
       "      <td>-0.107428</td>\n",
       "      <td>-0.224915</td>\n",
       "      <td>-0.294065</td>\n",
       "      <td>0.225130</td>\n",
       "      <td>-0.272121</td>\n",
       "      <td>0.0</td>\n",
       "      <td>-0.435761</td>\n",
       "      <td>1.377177</td>\n",
       "      <td>...</td>\n",
       "      <td>-0.652934</td>\n",
       "      <td>-0.245211</td>\n",
       "      <td>1.234422</td>\n",
       "      <td>1.975061</td>\n",
       "      <td>1.736923</td>\n",
       "      <td>0.774023</td>\n",
       "      <td>0.038152</td>\n",
       "      <td>1.211420</td>\n",
       "      <td>-0.204173</td>\n",
       "      <td>0.006785</td>\n",
       "    </tr>\n",
       "  </tbody>\n",
       "</table>\n",
       "<p>400 rows × 108 columns</p>\n",
       "</div>"
      ],
      "text/plain": [
       "          0         1         2         3         4         5         6    \\\n",
       "0    1.893342 -0.122717  0.057079 -0.126082 -0.178456  0.146459 -0.178649   \n",
       "1    1.073345  0.024569  0.148725  0.014906  0.108700 -0.037106  0.061263   \n",
       "2    2.008995  0.062047  0.392003  0.031344 -0.044202  0.120235 -0.066482   \n",
       "3    1.987722  0.057585  0.264899  0.047996  0.168369 -0.184614  0.117347   \n",
       "4    2.021116  0.095086  0.367559  0.075022 -0.025555  0.054676 -0.050903   \n",
       "..        ...       ...       ...       ...       ...       ...       ...   \n",
       "395  0.883860 -0.177771 -0.153861 -0.166481 -0.182186  0.162849 -0.181765   \n",
       "396  1.396924 -0.226224 -0.168949 -0.206992 -0.170998  0.244798 -0.172418   \n",
       "397  1.566103 -0.255250 -0.183579 -0.232411 -0.372380  0.326747 -0.340668   \n",
       "398  1.325923 -0.214965 -0.163430 -0.197059 -0.178456  0.143181 -0.178649   \n",
       "399  2.310679 -0.249293 -0.107428 -0.224915 -0.294065  0.225130 -0.272121   \n",
       "\n",
       "     7         8         9    ...       98        99        100       101  \\\n",
       "0    0.0 -0.107710  0.127100  ... -0.310324 -0.158831  0.319657  1.129618   \n",
       "1    0.0 -0.107710 -0.211447  ...  0.064639  0.124151  0.689700  0.987316   \n",
       "2    0.0  0.001640 -0.183342  ...  0.748195 -0.024188  0.703491  1.410037   \n",
       "3    0.0  1.860593  0.286085  ...  0.250698 -0.054202  0.852887  1.355628   \n",
       "4    0.0  0.876442  0.190298  ...  0.601631  0.097958  1.151680  1.816017   \n",
       "..   ...       ...       ...  ...       ...       ...       ...       ...   \n",
       "395  0.0 -0.217060  0.947422  ... -0.334656 -0.149147  0.510424  0.719453   \n",
       "396  0.0  0.001640  1.156349  ... -0.590816 -0.197938  0.800024  1.250994   \n",
       "397  0.0 -0.107710  1.304979  ... -0.586128 -0.209623  0.227720  1.058467   \n",
       "398  0.0  0.767092  1.266329  ... -0.454668 -0.151084  0.928734  1.405852   \n",
       "399  0.0 -0.435761  1.377177  ... -0.652934 -0.245211  1.234422  1.975061   \n",
       "\n",
       "          102       103       104       105       106       107  \n",
       "0    1.922394  0.963557 -0.295590 -0.637460 -0.077511  0.014685  \n",
       "1    0.661192  0.312657  0.030904 -0.941640 -0.001694  0.028331  \n",
       "2    1.950215  0.968545  0.106917  0.473455 -0.034718  0.132471  \n",
       "3    1.825022  0.886247 -0.053498 -0.983960  0.139334  0.096920  \n",
       "4    1.774017  0.981014  1.036373  0.711508  0.066908  0.175922  \n",
       "..        ...       ...       ...       ...       ...       ...  \n",
       "395  0.554546  0.220383  0.001006  1.052718 -0.150140 -0.053185  \n",
       "396  0.855937  0.302681  0.315411  0.071409 -0.175353 -0.074372  \n",
       "397  1.829659  0.801455  0.007720 -0.724747 -0.252384 -0.028048  \n",
       "398  0.976493  0.340089 -0.001374  0.063474 -0.212324 -0.072217  \n",
       "399  1.736923  0.774023  0.038152  1.211420 -0.204173  0.006785  \n",
       "\n",
       "[400 rows x 108 columns]"
      ]
     },
     "execution_count": 106,
     "metadata": {},
     "output_type": "execute_result"
    }
   ],
   "source": [
    "pd.DataFrame(X)"
   ]
  },
  {
   "cell_type": "markdown",
   "metadata": {},
   "source": [
    "Chia tập dữ liệu thành các tập train, test (validation)"
   ]
  },
  {
   "cell_type": "code",
   "execution_count": 108,
   "metadata": {},
   "outputs": [],
   "source": [
    "from sklearn.model_selection import train_test_split\n",
    "Y = Y.values.reshape((1,len(Y.values)))[0]\n",
    "X_train, X_test, y_train, y_test = train_test_split(X, Y, test_size=0.33, random_state=42)"
   ]
  },
  {
   "cell_type": "markdown",
   "metadata": {},
   "source": [
    "Lưu kết quả của các mô hình"
   ]
  },
  {
   "cell_type": "code",
   "execution_count": 110,
   "metadata": {},
   "outputs": [],
   "source": [
    "result = pd.DataFrame()\n",
    "result['actually'] = y_test"
   ]
  },
  {
   "cell_type": "markdown",
   "metadata": {},
   "source": [
    "### Mô hình SVR"
   ]
  },
  {
   "cell_type": "code",
   "execution_count": 111,
   "metadata": {
    "scrolled": true
   },
   "outputs": [],
   "source": [
    "#SVR \n",
    "from sklearn.model_selection import GridSearchCV \n",
    "from sklearn.svm import NuSVR, SVR \n",
    "from sklearn.metrics import mean_absolute_error "
   ]
  },
  {
   "cell_type": "markdown",
   "metadata": {},
   "source": [
    "Lập các bộ tham số để train nhằm tìm ra bộ tham số phù hợp nhất"
   ]
  },
  {
   "cell_type": "code",
   "execution_count": 127,
   "metadata": {},
   "outputs": [],
   "source": [
    "params = {\n",
    "    'kernel': ['linear', 'poly', 'rbf', 'sigmoid'],\n",
    "    'degree': [1,3,5],\n",
    "    'gamma': [0.001, 0.005, 0.01, 0.02, 0.05, 0.1], \n",
    "    'C': [0.1, 0.2, 0.25, 0.5, 1, 1.5, 2]\n",
    "}\n",
    "gridSVR = GridSearchCV(SVR(), params, scoring='neg_mean_absolute_error')"
   ]
  },
  {
   "cell_type": "code",
   "execution_count": 128,
   "metadata": {},
   "outputs": [
    {
     "name": "stdout",
     "output_type": "stream",
     "text": [
      "{'C': 2, 'degree': 1, 'gamma': 0.01, 'kernel': 'rbf'}\n"
     ]
    }
   ],
   "source": [
    "gridSVR.fit(X_train, y_train)\n",
    "print(gridSVR.best_params_)"
   ]
  },
  {
   "cell_type": "markdown",
   "metadata": {},
   "source": [
    "Dự đoán và tính sai số "
   ]
  },
  {
   "cell_type": "code",
   "execution_count": 131,
   "metadata": {},
   "outputs": [
    {
     "name": "stdout",
     "output_type": "stream",
     "text": [
      "1.6741582853492696\n"
     ]
    }
   ],
   "source": [
    "y_predict = gridSVR.predict(X_test) \n",
    "mae = mean_absolute_error(y_test, y_predict)\n",
    "print(mae)"
   ]
  },
  {
   "cell_type": "code",
   "execution_count": 132,
   "metadata": {},
   "outputs": [],
   "source": [
    "result['svr_predict']= y_predict\n",
    "result['svr_mae'] = abs(y_predict-y_test)"
   ]
  },
  {
   "cell_type": "markdown",
   "metadata": {},
   "source": [
    "### Mô hình Xgb"
   ]
  },
  {
   "cell_type": "code",
   "execution_count": 122,
   "metadata": {},
   "outputs": [],
   "source": [
    "# Extreme Gradient Boosting\n",
    "import xgboost as xgb "
   ]
  },
  {
   "cell_type": "markdown",
   "metadata": {},
   "source": [
    "Lập các bộ tham số để train nhằm tìm ra bộ tham số phù hợp nhất"
   ]
  },
  {
   "cell_type": "code",
   "execution_count": 123,
   "metadata": {},
   "outputs": [],
   "source": [
    "# params = {\n",
    "#     'n_estimators': [5, 10, 50], \n",
    "#      'max_depth': [1, 5, 10]\n",
    "# }\n",
    "\n",
    "params = {'eta': [0.03],\n",
    "          'max_depth': [9],\n",
    "          'subsample': [0.85],\n",
    "          'objective': ['reg:squarederror'],\n",
    "          'eval_metric': ['mae'],\n",
    "          'nthread': [4]}\n",
    "\n",
    "gridXGB = GridSearchCV(xgb.XGBRegressor(), params, scoring='neg_mean_absolute_error')"
   ]
  },
  {
   "cell_type": "code",
   "execution_count": 124,
   "metadata": {},
   "outputs": [
    {
     "name": "stdout",
     "output_type": "stream",
     "text": [
      "{'eta': 0.03, 'eval_metric': 'mae', 'max_depth': 9, 'nthread': 4, 'objective': 'reg:squarederror', 'subsample': 0.85}\n"
     ]
    }
   ],
   "source": [
    "gridXGB.fit(X_train, y_train)\n",
    "print(gridXGB.best_params_)"
   ]
  },
  {
   "cell_type": "markdown",
   "metadata": {},
   "source": [
    "Dự đóa y và tính sai soos"
   ]
  },
  {
   "cell_type": "code",
   "execution_count": 125,
   "metadata": {},
   "outputs": [
    {
     "name": "stdout",
     "output_type": "stream",
     "text": [
      "1.6942062027423161\n"
     ]
    }
   ],
   "source": [
    "y_predict = gridXGB.predict(X_test) \n",
    "mae = mean_absolute_error(y_test, y_predict)\n",
    "print(mae)"
   ]
  },
  {
   "cell_type": "code",
   "execution_count": 126,
   "metadata": {},
   "outputs": [],
   "source": [
    "result['xgb_predict']= y_predict\n",
    "result['xgb_mae'] = abs(y_predict-y_test)"
   ]
  },
  {
   "cell_type": "markdown",
   "metadata": {},
   "source": [
    "### Mô hình lgb"
   ]
  },
  {
   "cell_type": "code",
   "execution_count": 133,
   "metadata": {},
   "outputs": [],
   "source": [
    "#LGBMRegressor\n",
    "import lightgbm as lgb "
   ]
  },
  {
   "cell_type": "markdown",
   "metadata": {},
   "source": [
    "Lập các bộ tham số để train nhằm tìm ra bộ tham số phù hợp nhất"
   ]
  },
  {
   "cell_type": "code",
   "execution_count": 134,
   "metadata": {
    "scrolled": true
   },
   "outputs": [
    {
     "name": "stdout",
     "output_type": "stream",
     "text": [
      "[LightGBM] [Warning] bagging_fraction is set=0.8126672064208567, subsample=1.0 will be ignored. Current value: bagging_fraction=0.8126672064208567\n",
      "[LightGBM] [Warning] bagging_freq is set=5, subsample_freq=0 will be ignored. Current value: bagging_freq=5\n",
      "[LightGBM] [Warning] min_data_in_leaf is set=79, min_child_samples=20 will be ignored. Current value: min_data_in_leaf=79\n",
      "[LightGBM] [Warning] boosting is set=gbdt, boosting_type=gbdt will be ignored. Current value: boosting=gbdt\n",
      "[LightGBM] [Warning] bagging_fraction is set=0.8126672064208567, subsample=1.0 will be ignored. Current value: bagging_fraction=0.8126672064208567\n",
      "[LightGBM] [Warning] bagging_freq is set=5, subsample_freq=0 will be ignored. Current value: bagging_freq=5\n",
      "[LightGBM] [Warning] min_data_in_leaf is set=79, min_child_samples=20 will be ignored. Current value: min_data_in_leaf=79\n",
      "[LightGBM] [Warning] boosting is set=gbdt, boosting_type=gbdt will be ignored. Current value: boosting=gbdt\n",
      "[LightGBM] [Warning] bagging_fraction is set=0.8126672064208567, subsample=1.0 will be ignored. Current value: bagging_fraction=0.8126672064208567\n",
      "[LightGBM] [Warning] bagging_freq is set=5, subsample_freq=0 will be ignored. Current value: bagging_freq=5\n",
      "[LightGBM] [Warning] min_data_in_leaf is set=79, min_child_samples=20 will be ignored. Current value: min_data_in_leaf=79\n",
      "[LightGBM] [Warning] boosting is set=gbdt, boosting_type=gbdt will be ignored. Current value: boosting=gbdt\n",
      "[LightGBM] [Warning] bagging_fraction is set=0.8126672064208567, subsample=1.0 will be ignored. Current value: bagging_fraction=0.8126672064208567\n",
      "[LightGBM] [Warning] bagging_freq is set=5, subsample_freq=0 will be ignored. Current value: bagging_freq=5\n",
      "[LightGBM] [Warning] min_data_in_leaf is set=79, min_child_samples=20 will be ignored. Current value: min_data_in_leaf=79\n",
      "[LightGBM] [Warning] boosting is set=gbdt, boosting_type=gbdt will be ignored. Current value: boosting=gbdt\n",
      "[LightGBM] [Warning] bagging_fraction is set=0.8126672064208567, subsample=1.0 will be ignored. Current value: bagging_fraction=0.8126672064208567\n",
      "[LightGBM] [Warning] bagging_freq is set=5, subsample_freq=0 will be ignored. Current value: bagging_freq=5\n",
      "[LightGBM] [Warning] min_data_in_leaf is set=79, min_child_samples=20 will be ignored. Current value: min_data_in_leaf=79\n",
      "[LightGBM] [Warning] boosting is set=gbdt, boosting_type=gbdt will be ignored. Current value: boosting=gbdt\n",
      "[LightGBM] [Warning] bagging_fraction is set=0.8126672064208567, subsample=1.0 will be ignored. Current value: bagging_fraction=0.8126672064208567\n",
      "[LightGBM] [Warning] bagging_freq is set=5, subsample_freq=0 will be ignored. Current value: bagging_freq=5\n",
      "[LightGBM] [Warning] min_data_in_leaf is set=79, min_child_samples=20 will be ignored. Current value: min_data_in_leaf=79\n",
      "[LightGBM] [Warning] boosting is set=gbdt, boosting_type=gbdt will be ignored. Current value: boosting=gbdt\n",
      "{'bagging_fraction': 0.8126672064208567, 'bagging_freq': 5, 'bagging_seed': 11, 'boosting': 'gbdt', 'learning_rate': 0.01, 'max_depth': -1, 'metric': 'mae', 'min_data_in_leaf': 79, 'num_leaves': 128, 'objective': 'huber', 'reg_alpha': 0.1302650970728192, 'reg_lambda': 0.3603427518866501, 'verbosity': -1}\n"
     ]
    }
   ],
   "source": [
    "# params = {\n",
    "#     'n_estimators': [5, 10, 50], \n",
    "#      'max_depth': [1, 5, 10]\n",
    "# }\n",
    "\n",
    "params = {'num_leaves': [128],\n",
    "          'min_data_in_leaf': [79],\n",
    "          'objective': ['huber'],\n",
    "          'max_depth': [-1],\n",
    "          'learning_rate': [0.01],\n",
    "          \"boosting\": [\"gbdt\"],\n",
    "          \"bagging_freq\": [5],\n",
    "          \"bagging_fraction\": [0.8126672064208567],\n",
    "          \"bagging_seed\": [11],\n",
    "          \"metric\": ['mae'],\n",
    "          \"verbosity\": [-1],\n",
    "          'reg_alpha': [0.1302650970728192],\n",
    "          'reg_lambda': [0.3603427518866501]\n",
    "         }\n",
    "\n",
    "# params = {\n",
    "#     'learning_rate': [0.005, 0.01,.1],\n",
    "#     'n_estimators': [50,100,150],\n",
    "#     'num_leaves': [4,6,7,8],\n",
    "#     'boosting_type' : ['gbdt', 'dart'],\n",
    "#     'objective' : ['mean_absolute_error'],\n",
    "#     'max_bin':[127,255], \n",
    "#     'colsample_bytree' : [.4,.6,.8],\n",
    "#     'subsample' : [.4,.6,.7,.8],\n",
    "#     'reg_alpha' : [0,.5,1],\n",
    "#     'reg_lambda' : [0,.5,1],\n",
    "#     }\n",
    "\n",
    "\n",
    "gridLGB = GridSearchCV(lgb.LGBMRegressor(), params, scoring='neg_mean_absolute_error')\n",
    "gridLGB.fit(X_train, y_train)\n",
    "print(gridLGB.best_params_)"
   ]
  },
  {
   "cell_type": "markdown",
   "metadata": {},
   "source": [
    "'num_leaves': Số lá tối đa trong một câu   \n",
    "'min_data_in_leaf': số lượng dữ liệu tối thiểu trong một lá. C Can be used to deal with over-fitting  \n",
    "'objective': 'huber',  \n",
    "'max_depth': giới hạn độ sâu tối đa cho mô hình cây  \n",
    "'learning_rate': tỉ lệ học (cần tra thêm)  \n",
    "\"boosting\": \"gbdt\",  \n",
    "\"bagging_freq\":  chọn ngẫu nhiên một phần dữ liệu mà không cần lấy mẫu lại,  \n",
    "\"bagging_fraction\":chọn ngẫu nhiên một phần dữ liệu mà không cần lấy mẫu lại  \n",
    "\"bagging_seed\": hạt giống ngẫu nhiên để đóng bao  \n",
    "\"metric\": 'mae',  \n",
    "\"verbosity\": Kiểm soát mức độ chi tiết của LightGBM  \n",
    "'reg_alpha':L1 regularization  \n",
    "'reg_lambda': 0.3603427518866501  "
   ]
  },
  {
   "cell_type": "markdown",
   "metadata": {},
   "source": [
    "Dự đoán y và tính sai soos"
   ]
  },
  {
   "cell_type": "code",
   "execution_count": 139,
   "metadata": {},
   "outputs": [
    {
     "name": "stdout",
     "output_type": "stream",
     "text": [
      "3.3828500114572693\n"
     ]
    }
   ],
   "source": [
    "y_predict = gridLGB.predict(X_test) \n",
    "mae = mean_absolute_error(y_test, y_predict)\n",
    "print(mae)"
   ]
  },
  {
   "cell_type": "code",
   "execution_count": 140,
   "metadata": {},
   "outputs": [],
   "source": [
    "result['lgb_predict']= y_predict\n",
    "result['lgb_mae'] = abs(y_predict-y_test)"
   ]
  },
  {
   "cell_type": "markdown",
   "metadata": {},
   "source": [
    "### Visualize result"
   ]
  },
  {
   "cell_type": "code",
   "execution_count": 141,
   "metadata": {},
   "outputs": [
    {
     "data": {
      "image/png": "[encoded data removed]",
      "text/plain": [
       "<Figure size 432x288 with 1 Axes>"
      ]
     },
     "metadata": {
      "needs_background": "light"
     },
     "output_type": "display_data"
    }
   ],
   "source": [
    "fig = plt.figure()\n",
    "ax = fig.add_axes([0,0,1,1])\n",
    "ax.bar(range(132),result['svr_mae'])\n",
    "plt.show()"
   ]
  },
  {
   "cell_type": "code",
   "execution_count": 142,
   "metadata": {},
   "outputs": [
    {
     "data": {
      "image/png": "[encoded data removed]",
      "text/plain": [
       "<Figure size 432x288 with 1 Axes>"
      ]
     },
     "metadata": {
      "needs_background": "light"
     },
     "output_type": "display_data"
    }
   ],
   "source": [
    "fig = plt.figure()\n",
    "ax = fig.add_axes([0,0,1,1])\n",
    "ax.bar(range(132),result['lgb_mae'])\n",
    "plt.show()"
   ]
  },
  {
   "cell_type": "code",
   "execution_count": 143,
   "metadata": {},
   "outputs": [
    {
     "data": {
      "image/png": "[encoded data removed]",
      "text/plain": [
       "<Figure size 432x288 with 1 Axes>"
      ]
     },
     "metadata": {
      "needs_background": "light"
     },
     "output_type": "display_data"
    }
   ],
   "source": [
    "fig = plt.figure()\n",
    "ax = fig.add_axes([0,0,1,1])\n",
    "ax.bar(range(132),result['xgb_mae'])\n",
    "plt.show()"
   ]
  },
  {
   "cell_type": "code",
   "execution_count": 144,
   "metadata": {},
   "outputs": [
    {
     "data": {
      "text/html": [
       "<div>\n",
       "<style scoped>\n",
       "    .dataframe tbody tr th:only-of-type {\n",
       "        vertical-align: middle;\n",
       "    }\n",
       "\n",
       "    .dataframe tbody tr th {\n",
       "        vertical-align: top;\n",
       "    }\n",
       "\n",
       "    .dataframe thead th {\n",
       "        text-align: right;\n",
       "    }\n",
       "</style>\n",
       "<table border=\"1\" class=\"dataframe\">\n",
       "  <thead>\n",
       "    <tr style=\"text-align: right;\">\n",
       "      <th></th>\n",
       "      <th>actually</th>\n",
       "      <th>xgb_predict</th>\n",
       "      <th>xgb_mae</th>\n",
       "      <th>svr_predict</th>\n",
       "      <th>svr_mae</th>\n",
       "      <th>lgb_predict</th>\n",
       "      <th>lgb_mae</th>\n",
       "    </tr>\n",
       "  </thead>\n",
       "  <tbody>\n",
       "    <tr>\n",
       "      <th>0</th>\n",
       "      <td>4.827998</td>\n",
       "      <td>3.349133</td>\n",
       "      <td>1.478865</td>\n",
       "      <td>4.129566</td>\n",
       "      <td>0.698432</td>\n",
       "      <td>5.865903</td>\n",
       "      <td>1.037905</td>\n",
       "    </tr>\n",
       "    <tr>\n",
       "      <th>1</th>\n",
       "      <td>2.061598</td>\n",
       "      <td>1.447624</td>\n",
       "      <td>0.613973</td>\n",
       "      <td>2.274363</td>\n",
       "      <td>0.212765</td>\n",
       "      <td>5.758208</td>\n",
       "      <td>3.696611</td>\n",
       "    </tr>\n",
       "    <tr>\n",
       "      <th>2</th>\n",
       "      <td>0.144499</td>\n",
       "      <td>9.889469</td>\n",
       "      <td>9.744970</td>\n",
       "      <td>11.685677</td>\n",
       "      <td>11.541177</td>\n",
       "      <td>7.117953</td>\n",
       "      <td>6.973454</td>\n",
       "    </tr>\n",
       "    <tr>\n",
       "      <th>3</th>\n",
       "      <td>4.788700</td>\n",
       "      <td>5.209521</td>\n",
       "      <td>0.420821</td>\n",
       "      <td>5.494920</td>\n",
       "      <td>0.706220</td>\n",
       "      <td>5.758208</td>\n",
       "      <td>0.969509</td>\n",
       "    </tr>\n",
       "    <tr>\n",
       "      <th>4</th>\n",
       "      <td>9.347898</td>\n",
       "      <td>10.300669</td>\n",
       "      <td>0.952770</td>\n",
       "      <td>11.081794</td>\n",
       "      <td>1.733896</td>\n",
       "      <td>7.117953</td>\n",
       "      <td>2.229945</td>\n",
       "    </tr>\n",
       "    <tr>\n",
       "      <th>...</th>\n",
       "      <td>...</td>\n",
       "      <td>...</td>\n",
       "      <td>...</td>\n",
       "      <td>...</td>\n",
       "      <td>...</td>\n",
       "      <td>...</td>\n",
       "      <td>...</td>\n",
       "    </tr>\n",
       "    <tr>\n",
       "      <th>127</th>\n",
       "      <td>0.035796</td>\n",
       "      <td>11.951352</td>\n",
       "      <td>11.915556</td>\n",
       "      <td>12.094162</td>\n",
       "      <td>12.058366</td>\n",
       "      <td>7.117953</td>\n",
       "      <td>7.082157</td>\n",
       "    </tr>\n",
       "    <tr>\n",
       "      <th>128</th>\n",
       "      <td>6.464498</td>\n",
       "      <td>4.974331</td>\n",
       "      <td>1.490168</td>\n",
       "      <td>5.685504</td>\n",
       "      <td>0.778995</td>\n",
       "      <td>6.254288</td>\n",
       "      <td>0.210211</td>\n",
       "    </tr>\n",
       "    <tr>\n",
       "      <th>129</th>\n",
       "      <td>3.425696</td>\n",
       "      <td>1.242733</td>\n",
       "      <td>2.182963</td>\n",
       "      <td>1.575517</td>\n",
       "      <td>1.850180</td>\n",
       "      <td>5.758208</td>\n",
       "      <td>2.332512</td>\n",
       "    </tr>\n",
       "    <tr>\n",
       "      <th>130</th>\n",
       "      <td>0.853996</td>\n",
       "      <td>1.832052</td>\n",
       "      <td>0.978055</td>\n",
       "      <td>1.478631</td>\n",
       "      <td>0.624635</td>\n",
       "      <td>5.758208</td>\n",
       "      <td>4.904212</td>\n",
       "    </tr>\n",
       "    <tr>\n",
       "      <th>131</th>\n",
       "      <td>7.321997</td>\n",
       "      <td>6.450355</td>\n",
       "      <td>0.871642</td>\n",
       "      <td>6.103626</td>\n",
       "      <td>1.218371</td>\n",
       "      <td>7.037756</td>\n",
       "      <td>0.284240</td>\n",
       "    </tr>\n",
       "  </tbody>\n",
       "</table>\n",
       "<p>132 rows × 7 columns</p>\n",
       "</div>"
      ],
      "text/plain": [
       "     actually  xgb_predict    xgb_mae  svr_predict    svr_mae  lgb_predict  \\\n",
       "0    4.827998     3.349133   1.478865     4.129566   0.698432     5.865903   \n",
       "1    2.061598     1.447624   0.613973     2.274363   0.212765     5.758208   \n",
       "2    0.144499     9.889469   9.744970    11.685677  11.541177     7.117953   \n",
       "3    4.788700     5.209521   0.420821     5.494920   0.706220     5.758208   \n",
       "4    9.347898    10.300669   0.952770    11.081794   1.733896     7.117953   \n",
       "..        ...          ...        ...          ...        ...          ...   \n",
       "127  0.035796    11.951352  11.915556    12.094162  12.058366     7.117953   \n",
       "128  6.464498     4.974331   1.490168     5.685504   0.778995     6.254288   \n",
       "129  3.425696     1.242733   2.182963     1.575517   1.850180     5.758208   \n",
       "130  0.853996     1.832052   0.978055     1.478631   0.624635     5.758208   \n",
       "131  7.321997     6.450355   0.871642     6.103626   1.218371     7.037756   \n",
       "\n",
       "      lgb_mae  \n",
       "0    1.037905  \n",
       "1    3.696611  \n",
       "2    6.973454  \n",
       "3    0.969509  \n",
       "4    2.229945  \n",
       "..        ...  \n",
       "127  7.082157  \n",
       "128  0.210211  \n",
       "129  2.332512  \n",
       "130  4.904212  \n",
       "131  0.284240  \n",
       "\n",
       "[132 rows x 7 columns]"
      ]
     },
     "execution_count": 144,
     "metadata": {},
     "output_type": "execute_result"
    }
   ],
   "source": [
    "result"
   ]
  },
  {
   "cell_type": "markdown",
   "metadata": {},
   "source": [
    "### Save model"
   ]
  },
  {
   "cell_type": "code",
   "execution_count": 145,
   "metadata": {},
   "outputs": [],
   "source": [
    "#save model\n",
    "import pickle"
   ]
  },
  {
   "cell_type": "code",
   "execution_count": 146,
   "metadata": {},
   "outputs": [],
   "source": [
    "filename = \"SVRModel.pkl\"\n",
    "with open(filename, 'wb') as file:\n",
    "    pickle.dump(gridSVR, file)"
   ]
  },
  {
   "cell_type": "code",
   "execution_count": 147,
   "metadata": {},
   "outputs": [],
   "source": [
    "with open(filename, 'rb') as file:\n",
    "    pickle_model = pickle.load(file)"
   ]
  },
  {
   "cell_type": "code",
   "execution_count": 148,
   "metadata": {},
   "outputs": [
    {
     "name": "stdout",
     "output_type": "stream",
     "text": [
      "1.6741582853492696\n"
     ]
    }
   ],
   "source": [
    "y_predict = pickle_model.predict(X_test) \n",
    "mae = mean_absolute_error(y_test, y_predict)\n",
    "print(mae)"
   ]
  }
 ],
 "metadata": {
  "kernelspec": {
   "display_name": "Python (ml)",
   "language": "python",
   "name": "ml"
  },
  "language_info": {
   "codemirror_mode": {
    "name": "ipython",
    "version": 3
   },
   "file_extension": ".py",
   "mimetype": "text/x-python",
   "name": "python",
   "nbconvert_exporter": "python",
   "pygments_lexer": "ipython3",
   "version": "3.9.2"
  },
  "toc": {
   "base_numbering": 1,
   "nav_menu": {},
   "number_sections": true,
   "sideBar": true,
   "skip_h1_title": false,
   "title_cell": "Table of Contents",
   "title_sidebar": "Contents",
   "toc_cell": false,
   "toc_position": {
    "height": "calc(100% - 180px)",
    "left": "10px",
    "top": "150px",
    "width": "245.052px"
   },
   "toc_section_display": true,
   "toc_window_display": false
  }
 },
 "nbformat": 4,
 "nbformat_minor": 4
}
